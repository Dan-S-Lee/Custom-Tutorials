{
 "cells": [
  {
   "cell_type": "markdown",
   "metadata": {},
   "source": [
    "# Explain Like I'm Five (ELI5) basic overview of vectorization and how to apply it to Python"
   ]
  },
  {
   "cell_type": "code",
   "execution_count": 1,
   "metadata": {},
   "outputs": [],
   "source": [
    "import numpy as np\n",
    "import pandas as pd\n",
    "import time\n",
    "import random\n",
    "from itertools import permutations, combinations"
   ]
  },
  {
   "cell_type": "markdown",
   "metadata": {},
   "source": [
    "Take a look at this problem we have here. We have two big arrays that need to be multiplied and summed:"
   ]
  },
  {
   "cell_type": "code",
   "execution_count": 2,
   "metadata": {},
   "outputs": [],
   "source": [
    "a = np.random.rand(30000000) #this creates a random array of length 30,000,000\n",
    "b = np.random.rand(30000000)"
   ]
  },
  {
   "cell_type": "markdown",
   "metadata": {},
   "source": [
    "If we were to do this by hand, we would take each element of the list, multiply them, and then add them to the sum. Let's see what that would look like in a for loop. (Warning: this may take around 20 seconds)"
   ]
  },
  {
   "cell_type": "code",
   "execution_count": 3,
   "metadata": {},
   "outputs": [],
   "source": [
    "def sum_func(a, b):\n",
    "    ab_sum = 0\n",
    "    for i in range(0, len(a)):\n",
    "        ab_sum += a[i] * b[i]\n",
    "    return ab_sum"
   ]
  },
  {
   "cell_type": "code",
   "execution_count": 4,
   "metadata": {},
   "outputs": [],
   "source": [
    "time1 = time.process_time()\n",
    "sample = sum_func(a, b)\n",
    "time2 = time.process_time()"
   ]
  },
  {
   "cell_type": "code",
   "execution_count": 5,
   "metadata": {},
   "outputs": [
    {
     "name": "stdout",
     "output_type": "stream",
     "text": [
      "For Loop time elapsed ~ 18.7357201 seconds\n"
     ]
    }
   ],
   "source": [
    "runtime = time2 - time1\n",
    "print('For Loop time elapsed ~ {} seconds'.format(runtime))"
   ]
  },
  {
   "cell_type": "markdown",
   "metadata": {},
   "source": [
    "The reason why this is slow is because it is calculating it one by one. It is calcuating a[0] * b[0], then adding it to the sum, and it then it calculates a[1] * b[1], then adds it to the sum etc. all the way to 30,000,000. It is waiting for each calculation to finish before moving on to the next one. \n",
    "\n",
    "The thing is, with this particular problem, we don't need to wait for each one to finish. a[1] * b[1] is not depenedent on anything else in the array, so there's no point in waiting for a[0] * b[0] to finish before calculating the rest of the array. Let's vectorize it. "
   ]
  },
  {
   "cell_type": "markdown",
   "metadata": {},
   "source": [
    "Tip: In order to pass two arrays or lists into two separate columns into a pandas dataframe, you must pass them into a dictionary first. You don't have create a new dictionary variable, this is just for readability."
   ]
  },
  {
   "cell_type": "code",
   "execution_count": 6,
   "metadata": {},
   "outputs": [],
   "source": [
    "ab_dict = {'a': a, 'b': b}\n",
    "ab_df = pd.DataFrame(ab_dict)"
   ]
  },
  {
   "cell_type": "markdown",
   "metadata": {},
   "source": [
    "You could also create two separate series (a series is similar to a dataframe, except it is just one-dimensional with an index): "
   ]
  },
  {
   "cell_type": "code",
   "execution_count": 7,
   "metadata": {},
   "outputs": [],
   "source": [
    "a_series = pd.Series(a)\n",
    "b_series = pd.Series(b)"
   ]
  },
  {
   "cell_type": "markdown",
   "metadata": {},
   "source": [
    "We can achieve a vectorized implementation with both datatypes:"
   ]
  },
  {
   "cell_type": "code",
   "execution_count": 8,
   "metadata": {},
   "outputs": [
    {
     "name": "stdout",
     "output_type": "stream",
     "text": [
      "7501187.615509808\n",
      "7501187.615509808\n"
     ]
    }
   ],
   "source": [
    "ab_df['multiplied'] = ab_df['a'] * ab_df['b']\n",
    "print(ab_df['multiplied'].sum())\n",
    "\n",
    "ab_series = a_series * b_series\n",
    "print(ab_series.sum())"
   ]
  },
  {
   "cell_type": "markdown",
   "metadata": {},
   "source": [
    "That was much faster, and we ran the operation twice in a fraction of the time! Let's create a function for both implementations:"
   ]
  },
  {
   "cell_type": "code",
   "execution_count": 9,
   "metadata": {},
   "outputs": [],
   "source": [
    "def df_mult(a, b):\n",
    "    ab_dict = {'a': a, 'b': b}\n",
    "    ab_df = pd.DataFrame(ab_dict)\n",
    "    ab_df['multiplied'] = ab_df['a'] * ab_df['b']\n",
    "    return ab_df['multiplied'].sum()"
   ]
  },
  {
   "cell_type": "code",
   "execution_count": 10,
   "metadata": {},
   "outputs": [],
   "source": [
    "def ser_mult(a, b):\n",
    "    a_series = pd.Series(a)\n",
    "    b_series = pd.Series(b)\n",
    "    ab_series = a_series * b_series\n",
    "    return ab_series.sum()"
   ]
  },
  {
   "cell_type": "code",
   "execution_count": 11,
   "metadata": {},
   "outputs": [
    {
     "name": "stdout",
     "output_type": "stream",
     "text": [
      "DataFrame Multiplication time elapsed ~ 1.2948082999999997 seconds\n"
     ]
    }
   ],
   "source": [
    "time1 = time.process_time()\n",
    "sample = df_mult(a, b)\n",
    "time2 = time.process_time()\n",
    "runtime = time2 - time1\n",
    "print('DataFrame Multiplication time elapsed ~ {} seconds'.format(runtime))"
   ]
  },
  {
   "cell_type": "code",
   "execution_count": 12,
   "metadata": {},
   "outputs": [
    {
     "name": "stdout",
     "output_type": "stream",
     "text": [
      "Series Multiplication time elapsed ~ 0.7332047000000017 seconds\n"
     ]
    }
   ],
   "source": [
    "time1 = time.process_time()\n",
    "sample = ser_mult(a, b)\n",
    "time2 = time.process_time()\n",
    "runtime = time2 - time1\n",
    "print('Series Multiplication time elapsed ~ {} seconds'.format(runtime))"
   ]
  },
  {
   "cell_type": "markdown",
   "metadata": {},
   "source": [
    "With either implementation, you can get an extremely efficient function. There are pros and cons to using Series vs DataFrames for certain problems. Series are faster for calcuations because you don't have to load them into a DataFrame, but you have to create a new variable for each Series when you do an operation. DataFrames can be great for readability and keeping things nice and organized."
   ]
  },
  {
   "cell_type": "markdown",
   "metadata": {},
   "source": [
    "### Euler Problems\n",
    "\n",
    "Let's solve an Euler problem with vectorization and compare the run-time speeds. https://projecteuler.net"
   ]
  },
  {
   "attachments": {
    "image.png": {
     "image/png": "[encoded data removed]"
    }
   },
   "cell_type": "markdown",
   "metadata": {},
   "source": [
    "#### Problem 43\n",
    "\n",
    "![image.png](attachment:image.png)"
   ]
  },
  {
   "cell_type": "markdown",
   "metadata": {},
   "source": [
    "Here is a sample for-loop implementation: (We have to up the 'n' parameter as such a small operation doesn't output enough nanoseconds)"
   ]
  },
  {
   "cell_type": "code",
   "execution_count": 13,
   "metadata": {},
   "outputs": [],
   "source": [
    "from itertools import permutations\n",
    "\n",
    "def for_loop():\n",
    "    perm_list = list(permutations([str(x) for x in range(0, 10)], 10))\n",
    "    op_list = [2, 3, 5, 7, 11, 13, 17]\n",
    "    sum_list = []\n",
    "    for perm in perm_list:\n",
    "        check = False\n",
    "        for i in range(1, 8)[::-1]:\n",
    "            subset = int(''.join(perm[i:i+3]))\n",
    "            if subset % op_list[i-1] == 0:\n",
    "                check = True\n",
    "            else: \n",
    "                check = False\n",
    "                break\n",
    "        if check:\n",
    "            sum_list.append(int(''.join(perm)))\n",
    "\n",
    "    return sum(sum_list)"
   ]
  },
  {
   "cell_type": "code",
   "execution_count": 14,
   "metadata": {},
   "outputs": [
    {
     "name": "stdout",
     "output_type": "stream",
     "text": [
      "For Loop time elapsed ~ 5.569235699999997 seconds\n",
      "16695334890\n"
     ]
    }
   ],
   "source": [
    "time1 = time.process_time()\n",
    "sample = for_loop()\n",
    "time2 = time.process_time()\n",
    "runtime = time2 - time1\n",
    "print('For Loop time elapsed ~ {} seconds'.format(runtime))\n",
    "print(sample)"
   ]
  },
  {
   "cell_type": "code",
   "execution_count": 15,
   "metadata": {},
   "outputs": [],
   "source": [
    "def df_vec():\n",
    "    digits = pd.Series(permutations([str(x) for x in range(0, 10)], 10)).apply(''.join)\n",
    "    df = pd.DataFrame(digits, columns = ['base'])\n",
    "    op_list = [2, 3, 5, 7, 11, 13, 17]\n",
    "    def get_subset(x):\n",
    "        return(x[i:i+3])\n",
    "    for i in range(1,8)[::-1]:\n",
    "        df[str(i)] = df['base'].apply(get_subset).astype(int)\n",
    "        df['mod-' + str(i)] = df[str(i)]%op_list[i-1]\n",
    "        df = df[df['mod-' + str(i)] == 0]\n",
    "    return df['base'].astype(float).sum()"
   ]
  },
  {
   "cell_type": "code",
   "execution_count": 16,
   "metadata": {},
   "outputs": [
    {
     "name": "stdout",
     "output_type": "stream",
     "text": [
      "Vec time elapsed ~ 4.539629099999999 seconds\n",
      "16695334890.0\n"
     ]
    }
   ],
   "source": [
    "time1 = time.process_time()\n",
    "sample = df_vec()\n",
    "time2 = time.process_time()\n",
    "runtime = time2 - time1\n",
    "print('Vec time elapsed ~ {} seconds'.format(runtime))\n",
    "print(sample)"
   ]
  },
  {
   "cell_type": "markdown",
   "metadata": {},
   "source": [
    "For such a small set of data, we won't see a huge increase in performance (1 second is still a good improvement in computer terms). However, when we start to get to larger and larger sets of data, this is where vectorization starts to shine."
   ]
  },
  {
   "attachments": {},
   "cell_type": "markdown",
   "metadata": {},
   "source": [
    "#### Euler 23\n",
    "\n",
    "![Euler23](Euler23.PNG)"
   ]
  },
  {
   "cell_type": "markdown",
   "metadata": {},
   "source": [
    "We also see increases in performance when we apply more complex functions onto sets of data:"
   ]
  },
  {
   "cell_type": "code",
   "execution_count": 17,
   "metadata": {},
   "outputs": [],
   "source": [
    "def euler23_forloop():\n",
    "    def factors(n):\n",
    "        tup_list = [(i, int(n/i)) for i in range(1, int(n**.5)+1) if n % i == 0]\n",
    "        small_list, large_list = zip(*tup_list)\n",
    "        result = set(small_list + large_list)\n",
    "        result.remove(n)\n",
    "        return sum(result)\n",
    "    num_list = list(range(1,28123+1))\n",
    "    abundant = []\n",
    "    for num in num_list:\n",
    "        factor_sum = factors(num)\n",
    "        if num > factor_sum:\n",
    "            abundant.append(num)\n",
    "    possible_sums = list(combinations(abundant, 2)) + [(x, x) for x in abundant]\n",
    "    sum_list = [sum(sub_sum) for sub_sum in possible_sums if sum(sub_sum) <= 28124]\n",
    "    result = 0\n",
    "    for num in num_list:\n",
    "        if num not in sum_list:\n",
    "            result += num\n",
    "    return result"
   ]
  },
  {
   "cell_type": "code",
   "execution_count": 41,
   "metadata": {},
   "outputs": [
    {
     "name": "stdout",
     "output_type": "stream",
     "text": [
      "For Loop time elapsed ~ 0.0 seconds\n"
     ]
    }
   ],
   "source": [
    "time1 = time.process_time()\n",
    "#sample = euler23_forloop()\n",
    "time2 = time.process_time()\n",
    "runtime = time2 - time1\n",
    "print('For Loop time elapsed ~ {} seconds'.format(runtime))"
   ]
  },
  {
   "cell_type": "markdown",
   "metadata": {},
   "source": [
    "I commented the actual function call out because it takes too long and froze my computer. I wouldn't recommend uncommenting and pressing run on the above code, might as well just skip it as it takes quite a while. "
   ]
  },
  {
   "cell_type": "code",
   "execution_count": 35,
   "metadata": {},
   "outputs": [],
   "source": [
    "def euler23_sum():\n",
    "    df = pd.DataFrame(list(range(1,28123+1)), columns = ['Num'])\n",
    "    def factors(n):\n",
    "        tup_list = [(i, int(n/i)) for i in range(1, int(n**.5)+1) if n % i == 0]\n",
    "        small_list, large_list = zip(*tup_list)\n",
    "        result = set(small_list + large_list)\n",
    "        result.remove(n)\n",
    "        return sum(result)\n",
    "\n",
    "    df['sum_factors'] = df['Num'].apply(factors)\n",
    "\n",
    "    abundants = df[df['sum_factors'] > df['Num']]['Num'].values.tolist()\n",
    "    possible_sums = pd.Series(list(combinations(abundants, 2)) + [(x, x) for x in abundants])\n",
    "    possible_sums = possible_sums.apply(sum)\n",
    "    possible_sums = possible_sums[possible_sums <= 28123]\n",
    "    check_set = set(possible_sums.values)\n",
    "    df['two-sum'] = df['Num'].isin(check_set)\n",
    "    return df[df['two-sum'] == False]['Num'].sum()"
   ]
  },
  {
   "cell_type": "code",
   "execution_count": 36,
   "metadata": {},
   "outputs": [
    {
     "name": "stdout",
     "output_type": "stream",
     "text": [
      "Vec time elapsed ~ 19.406524399999995 seconds\n",
      "4179871\n"
     ]
    }
   ],
   "source": [
    "time1 = time.process_time()\n",
    "sample = euler23_sum()\n",
    "time2 = time.process_time()\n",
    "runtime = time2 - time1\n",
    "print('Vec time elapsed ~ {} seconds'.format(runtime))\n",
    "print(sample)"
   ]
  },
  {
   "cell_type": "markdown",
   "metadata": {},
   "source": [
    "There are definitely improvements to be made in the vectorized implementation, but it is more of a proof of concept.\n",
    "\n",
    "#### Breakdown of steps for this particular problem in vectorization form:\n",
    "\n",
    "Step 1: Generate DataFrame. The only main parameter for a DataFrame object is an iterable. The column parameter is optional but recommended as renaming columns can be a pain."
   ]
  },
  {
   "cell_type": "code",
   "execution_count": 21,
   "metadata": {},
   "outputs": [],
   "source": [
    "df = pd.DataFrame(list(range(1,28123+1)), columns = ['Num'])"
   ]
  },
  {
   "cell_type": "markdown",
   "metadata": {},
   "source": [
    "Step 2: Create custom function that you want applied to your df column, it's most efficient if your function only takes one parameter. Apply functions can take more than one parameter, but it can be complex and inefficient to implement."
   ]
  },
  {
   "cell_type": "code",
   "execution_count": 22,
   "metadata": {},
   "outputs": [],
   "source": [
    "def factors(n):\n",
    "    tup_list = [(i, int(n/i)) for i in range(1, int(n**.5)+1) if n % i == 0]\n",
    "    small_list, large_list = zip(*tup_list)\n",
    "    result = set(small_list + large_list)\n",
    "    result.remove(n)\n",
    "    return sum(result)"
   ]
  },
  {
   "cell_type": "markdown",
   "metadata": {},
   "source": [
    "Step 3: Apply function to new column in DataFrame. By calling a name that doesn't exist in the DataFrame, in this case 'sum_factors', Pandas will automatically create a new column with this name. "
   ]
  },
  {
   "cell_type": "code",
   "execution_count": 25,
   "metadata": {},
   "outputs": [],
   "source": [
    "df['sum_factors'] = df['Num'].apply(factors)"
   ]
  },
  {
   "cell_type": "markdown",
   "metadata": {},
   "source": [
    "Step 4: Grab values from dataframe that meet a criteria. In this case, it is any number that is less than the sum of its factors.\n",
    "\n",
    "The syntax for filtering DataFrames is the following:\n",
    "new_df = df[df['COLUMN'] CRITERIA]\n",
    "\n",
    "A pythonic way is to also call the desired column since df[df['COLUMN'] CRITERIA] is a dataframe into the following:"
   ]
  },
  {
   "cell_type": "code",
   "execution_count": 26,
   "metadata": {},
   "outputs": [],
   "source": [
    "abundants = df[df['sum_factors'] > df['Num']]['Num'].values.tolist()"
   ]
  },
  {
   "cell_type": "markdown",
   "metadata": {},
   "source": [
    "The **.values** and **.tolist** method quickly grabs the values of the column that we just created and converts it into a list. \n",
    "\n",
    "Step 5: Get all possible combinations of 2 from the **abundants** list and also add the double combinations **(x, x)** because the combinations function does not include combinations that contain the same number. Put it into a Series for easy function application."
   ]
  },
  {
   "cell_type": "code",
   "execution_count": 27,
   "metadata": {},
   "outputs": [],
   "source": [
    "possible_sums = pd.Series(list(combinations(abundants, 2)) + [(x, x) for x in abundants])"
   ]
  },
  {
   "cell_type": "markdown",
   "metadata": {},
   "source": [
    "Step 6: Apply the sum function and then filter the Series that is under our max integer of 28123. The syntax is very similar to how you would filter a pandas column."
   ]
  },
  {
   "cell_type": "code",
   "execution_count": 30,
   "metadata": {},
   "outputs": [],
   "source": [
    "possible_sums = possible_sums.apply(sum)\n",
    "possible_sums = possible_sums[possible_sums <= 28123]"
   ]
  },
  {
   "cell_type": "markdown",
   "metadata": {},
   "source": [
    "Step 7: We want to filter this DataFrame column by numbers that are NOT in the possible_sums list. We are creating a set to get rid of duplicate variables and reduce computations:"
   ]
  },
  {
   "cell_type": "code",
   "execution_count": 37,
   "metadata": {},
   "outputs": [],
   "source": [
    "check_set = set(possible_sums.values)"
   ]
  },
  {
   "cell_type": "markdown",
   "metadata": {},
   "source": [
    "We are then filtering using the **.isin** method, which outputs a list of booleans. The syntax is pretty self explanatory as we have the column we want to filter, and we then assign this column of booleans to a new dataframe column. "
   ]
  },
  {
   "cell_type": "code",
   "execution_count": 39,
   "metadata": {},
   "outputs": [],
   "source": [
    "df['two-sum'] = df['Num'].isin(check_set)"
   ]
  },
  {
   "cell_type": "markdown",
   "metadata": {},
   "source": [
    "Step 8: The **.isin** method only outputs booleans so we want to then use this to actually filter the dataframe, then sum it."
   ]
  },
  {
   "cell_type": "code",
   "execution_count": 40,
   "metadata": {},
   "outputs": [
    {
     "data": {
      "text/plain": [
       "4179871"
      ]
     },
     "execution_count": 40,
     "metadata": {},
     "output_type": "execute_result"
    }
   ],
   "source": [
    "df[df['two-sum'] == False]['Num'].sum()"
   ]
  },
  {
   "cell_type": "markdown",
   "metadata": {},
   "source": [
    "Not all problems will benefit from vectorization. When you have smaller datasets or iterations, it may even take longer because of the extra time it takes to load data into DataFrames. However, the benefit of it is that you have more readable data that can be easily called in the future when you work with actual projects and data. \n",
    "\n",
    "Pandas DataFrames can be slower than some other implementations, but I found it to be a good first step in writing more pythonic and efficient code. "
   ]
  },
  {
   "cell_type": "code",
   "execution_count": null,
   "metadata": {},
   "outputs": [],
   "source": []
  }
 ],
 "metadata": {
  "kernelspec": {
   "display_name": "Python 3",
   "language": "python",
   "name": "python3"
  },
  "language_info": {
   "codemirror_mode": {
    "name": "ipython",
    "version": 3
   },
   "file_extension": ".py",
   "mimetype": "text/x-python",
   "name": "python",
   "nbconvert_exporter": "python",
   "pygments_lexer": "ipython3",
   "version": "3.8.3"
  }
 },
 "nbformat": 4,
 "nbformat_minor": 2
}
